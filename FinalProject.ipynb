@@ -0,0 +1,213 @@
{
 "cells": [
  {
   "cell_type": "code",
   "execution_count": 1,
   "metadata": {},
   "outputs": [
    {
     "name": "stdout",
     "output_type": "stream",
     "text": [
      "d:\\UD\\PythonProgramming_Online\\FinalProject\n"
     ]
    }
   ],
   "source": [
    "#  Place your files in a folder of your choice \n",
    "#  and set the current working directory to be that folder. \n",
    "\n",
    "%cd d:/UD/PythonProgramming_Online/FinalProject"
   ]
  },
  {
   "cell_type": "code",
   "execution_count": 3,
   "metadata": {},
   "outputs": [
    {
     "name": "stderr",
     "output_type": "stream",
     "text": [
      "C:\\ProgramData\\Anaconda3\\lib\\site-packages\\IPython\\core\\interactiveshell.py:3063: DtypeWarning: Columns (18) have mixed types.Specify dtype option on import or set low_memory=False.\n",
      "  interactivity=interactivity, compiler=compiler, result=result)\n"
     ]
    }
   ],
   "source": [
    "# Import your data into a pandas dataframe.\n",
    "\n",
    "import pandas as pd\n",
    "\n",
    "data = pd.read_csv('lc_2016_2017_short.csv')"
   ]
  },
  {
   "cell_type": "code",
   "execution_count": 4,
   "metadata": {},
   "outputs": [
    {
     "name": "stdout",
     "output_type": "stream",
     "text": [
      "(200000, 72)\n",
      "id                    int64\n",
      "member_id           float64\n",
      "loan_amnt             int64\n",
      "funded_amnt           int64\n",
      "funded_amnt_inv     float64\n",
      "                     ...   \n",
      "all_util            float64\n",
      "total_rev_hi_lim    float64\n",
      "inq_fi              float64\n",
      "total_cu_tl         float64\n",
      "inq_last_12m        float64\n",
      "Length: 72, dtype: object\n"
     ]
    }
   ],
   "source": [
    "# 1. Explore your data by producing the following:\n",
    "#    Descriptive statistics for numeric variables\n",
    "#    Save the descriptive statistics to a comma delimited file.\n",
    "#    Descriptive statistics for categorical variables\n",
    "#    Save the descriptive statistics to a comma delimited file.\n",
    "\n",
    "#  Number of observations and number of variables.\n",
    "\n",
    "print(data.shape)\n",
    "\n",
    "#  variable types.\n",
    "\n",
    "print(data.dtypes)\n",
    "\n",
    "\n",
    "#  Descriptive statistics for numeric variables\n",
    "\n",
    "data_numeric = data.describe()\n",
    "\n",
    "#  Descriptive statistics for categorical variables\n",
    "\n",
    "data_categorical = data.describe(include='object')\n",
    "\n",
    "#  Save descriptive statistics to csv files.\n",
    "\n",
    "data_numeric.to_csv('gc_desc_numeric.csv')\n",
    "data_categorical.to_csv('gc_desc_categorical.csv')"
   ]
  },
  {
   "cell_type": "code",
   "execution_count": 58,
   "metadata": {},
   "outputs": [
    {
     "name": "stdout",
     "output_type": "stream",
     "text": [
      "\n",
      "ctab\n",
      " loan_status         Charged Off  Current  Default  Fully Paid  \\\n",
      "purpose                                                         \n",
      "car                          91     1730        0         412   \n",
      "credit_card                1673    32110        3        6647   \n",
      "debt_consolidation         5916    83770        6       19716   \n",
      "home_improvement            604    11145        0        2861   \n",
      "house                        53      605        0         240   \n",
      "\n",
      "loan_status         In Grace Period  Late (16-30 days)  Late (31-120 days)  \n",
      "purpose                                                                     \n",
      "car                              17                  7                  20  \n",
      "credit_card                     302                184                 708  \n",
      "debt_consolidation             1088                627                2441  \n",
      "home_improvement                121                 75                 277  \n",
      "house                            14                 13                  21  \n",
      "loan_status         Charged Off   Current   Default  Fully Paid  \\\n",
      "purpose                                                           \n",
      "car                    0.039965  0.759772  0.000000    0.180940   \n",
      "credit_card            0.040190  0.771374  0.000072    0.159680   \n",
      "debt_consolidation     0.052094  0.737646  0.000053    0.173611   \n",
      "home_improvement       0.040045  0.738911  0.000000    0.189684   \n",
      "house                  0.056025  0.639535  0.000000    0.253700   \n",
      "\n",
      "loan_status         In Grace Period  Late (16-30 days)  Late (31-120 days)  \n",
      "purpose                                                                     \n",
      "car                        0.007466           0.003074            0.008783  \n",
      "credit_card                0.007255           0.004420            0.017008  \n",
      "debt_consolidation         0.009581           0.005521            0.021494  \n",
      "home_improvement           0.008022           0.004972            0.018365  \n",
      "house                      0.014799           0.013742            0.022199  \n"
     ]
    }
   ],
   "source": [
    "\n",
    "#STEP 3 --- Created by Shiva\n",
    "\n",
    "#Determine the percent of observations with each loan status among \n",
    "#loans requested for each purpose – the sum of percentages should be 100% when \n",
    "#summed across all loan statuses within each purpose.  \n",
    "#You will need the following variables for this task: 'purpose' , 'loan_status'\n",
    "\n",
    "#data file ---- lc_2016_2017_short.csv\n",
    "#import pandas as pd\n",
    "#data = pd.read_csv('lc_2016_2017_short.csv')\n",
    "\n",
    "import numpy as np\n",
    "\n",
    "purpose = data.loc[:,'purpose']\n",
    "\n",
    "loan_status = data.loc[:,'loan_status']\n",
    "\n",
    "# Create the crosstab\n",
    "ctab = pd.crosstab(purpose, loan_status)\n",
    "\n",
    "# Sum across columns of ctab.\n",
    "ctab_sum = ctab.sum(1)\n",
    "\n",
    "# Transpose ctab.\n",
    "ctab_transpose = ctab.transpose()\n",
    "\n",
    "# Calculate the percent of observations with each loan status among \n",
    "#loans requested for each purpose\n",
    "ctab_percent = ctab_transpose / ctab_sum\n",
    "ctab_percent = ctab_percent.transpose()\n",
    "\n",
    "# Print the final results, transposing ctab_percent for easier readability.\n",
    "print( ctab_percent.head())"
   ]
  },
  {
   "cell_type": "code",
   "execution_count": null,
   "metadata": {},
   "outputs": [],
   "source": [
    "\n",
    "\n"
   ]
  }
 ],
 "metadata": {
  "kernelspec": {
   "display_name": "Python 3",
   "language": "python",
   "name": "python3"
  },
  "language_info": {
   "codemirror_mode": {
    "name": "ipython",
    "version": 3
   },
   "file_extension": ".py",
   "mimetype": "text/x-python",
   "name": "python",
   "nbconvert_exporter": "python",
   "pygments_lexer": "ipython3",
   "version": "3.7.6"
  }
 },
 "nbformat": 4,
 "nbformat_minor": 4
}
