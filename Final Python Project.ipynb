{
 "cells": [
  {
   "cell_type": "code",
   "execution_count": 1,
   "metadata": {},
   "outputs": [
    {
     "name": "stdout",
     "output_type": "stream",
     "text": [
      "d:\\UD\\PythonProgramming_Online\\FinalProject\n"
     ]
    }
   ],
   "source": [
    "#  Place your files in a folder of your choice \n",
    "#  and set the current working directory to be that folder. \n",
    "\n",
    "%cd d:/UD/PythonProgramming_Online/FinalProject"
   ]
  },
  {
   "cell_type": "code",
   "execution_count": 2,
   "metadata": {},
   "outputs": [
    {
     "name": "stdout",
     "output_type": "stream",
     "text": [
      "(200000, 72)\n",
      "id                    int64\n",
      "member_id           float64\n",
      "loan_amnt             int64\n",
      "funded_amnt           int64\n",
      "funded_amnt_inv     float64\n",
      "                     ...   \n",
      "all_util            float64\n",
      "total_rev_hi_lim    float64\n",
      "inq_fi              float64\n",
      "total_cu_tl         float64\n",
      "inq_last_12m        float64\n",
      "Length: 72, dtype: object\n"
     ]
    }
   ],
   "source": [
    "# Import your data into a pandas dataframe.\n",
    "\n",
    "import pandas as pd\n",
    "\n",
    "data = pd.read_csv('lc_2016_2017_short.csv',low_memory=False)\n",
    "\n",
    "#    #STEP 1 --- Created by Juan\n",
    "#    Explore your data by producing the following:\n",
    "#    Descriptive statistics for numeric variables\n",
    "#    Save the descriptive statistics to a comma delimited file.\n",
    "#    Descriptive statistics for categorical variables\n",
    "#    Save the descriptive statistics to a comma delimited file.\n",
    "\n",
    "#  Number of observations and number of variables.\n",
    "\n",
    "print(data.shape)\n",
    "\n",
    "#  variable types.\n",
    "\n",
    "print(data.dtypes)\n",
    "\n",
    "\n",
    "#  Descriptive statistics for numeric variables\n",
    "\n",
    "data_numeric = data.describe()\n",
    "\n",
    "#  Descriptive statistics for categorical variables\n",
    "\n",
    "data_categorical = data.describe(include='object')\n",
    "\n",
    "#  Save descriptive statistics to csv files.\n",
    "\n",
    "data_numeric.to_csv('gc_desc_numeric.csv')\n",
    "data_categorical.to_csv('gc_desc_categorical.csv')"
   ]
  },
  {
   "cell_type": "code",
   "execution_count": 3,
   "metadata": {},
   "outputs": [
    {
     "data": {
      "image/png": "[encoded data removed]",
      "text/plain": [
       "<Figure size 432x288 with 1 Axes>"
      ]
     },
     "metadata": {
      "needs_background": "light"
     },
     "output_type": "display_data"
    }
   ],
   "source": [
    "#    #STEP 2 --- Created by Ruby \n",
    "#    Create a bar chart to represent the average dti (debt-to-income ratio) for each grade of loan.  \n",
    "#    In other words, the height of the bars depict the dti for a particular grade of loan.  \n",
    "#    The relevant variables are dti and grade.\n",
    "\n",
    "import matplotlib.pyplot as plt\n",
    "chartData = data.loc[:,['dti', 'grade']].groupby('grade').mean()\n",
    "chartData.plot(kind='bar', color='green')\n",
    "plt.ylabel('DTI')\n",
    "plt.xlabel('Grade')\n",
    "plt.xticks(rotation=0)\n",
    "plt.show()\n",
    "plt.close()"
   ]
  },
  {
   "cell_type": "code",
   "execution_count": 4,
   "metadata": {},
   "outputs": [
    {
     "name": "stdout",
     "output_type": "stream",
     "text": [
      "loan_status         Charged Off   Current   Default  Fully Paid  \\\n",
      "purpose                                                           \n",
      "car                    0.039965  0.759772  0.000000    0.180940   \n",
      "credit_card            0.040190  0.771374  0.000072    0.159680   \n",
      "debt_consolidation     0.052094  0.737646  0.000053    0.173611   \n",
      "home_improvement       0.040045  0.738911  0.000000    0.189684   \n",
      "house                  0.056025  0.639535  0.000000    0.253700   \n",
      "\n",
      "loan_status         In Grace Period  Late (16-30 days)  Late (31-120 days)  \n",
      "purpose                                                                     \n",
      "car                        0.007466           0.003074            0.008783  \n",
      "credit_card                0.007255           0.004420            0.017008  \n",
      "debt_consolidation         0.009581           0.005521            0.021494  \n",
      "home_improvement           0.008022           0.004972            0.018365  \n",
      "house                      0.014799           0.013742            0.022199  \n"
     ]
    }
   ],
   "source": [
    "#STEP 3 --- Created by Shiva\n",
    "#Determine the percent of observations with each loan status among\n",
    "#loans requested for each purpose – the sum of percentages should be 100% when\n",
    "#summed across all loan statuses within each purpose.\n",
    "#You will need the following variables for this task: 'purpose' , 'loan_status'\n",
    "#data file ---- lc_2016_2017_short.csv\n",
    "#import pandas as pd\n",
    "#data = pd.read_csv('lc_2016_2017_short.csv')\n",
    "import numpy as np\n",
    "purpose = data.loc[:,'purpose']\n",
    "loan_status = data.loc[:,'loan_status']\n",
    "\n",
    "# Create the crosstab\n",
    "\n",
    "ctab = pd.crosstab(purpose, loan_status)\n",
    "\n",
    "# Sum across columns of ctab.\n",
    "\n",
    "ctab_sum = ctab.sum(1)\n",
    "\n",
    "# Transpose ctab.\n",
    "\n",
    "ctab_transpose = ctab.transpose()\n",
    "\n",
    "# Calculate the percent of observations with each loan status among\n",
    "\n",
    "#loans requested for each purpose\n",
    "ctab_percent = ctab_transpose / ctab_sum\n",
    "ctab_percent = ctab_percent.transpose()\n",
    "\n",
    "# Print the final results, transposing ctab_percent for easier readability.\n",
    "\n",
    "print(ctab_percent.head())"
   ]
  },
  {
   "cell_type": "code",
   "execution_count": 5,
   "metadata": {},
   "outputs": [
    {
     "ename": "KeyError",
     "evalue": "'Passing list-likes to .loc or [] with any missing labels is no longer supported, see https://pandas.pydata.org/pandas-docs/stable/user_guide/indexing.html#deprecate-loc-reindex-listlike'",
     "output_type": "error",
     "traceback": [
      "\u001b[1;31m---------------------------------------------------------------------------\u001b[0m",
      "\u001b[1;31mKeyError\u001b[0m                                  Traceback (most recent call last)",
      "\u001b[1;32m<ipython-input-5-f99e91ef8e07>\u001b[0m in \u001b[0;36m<module>\u001b[1;34m\u001b[0m\n\u001b[0;32m      7\u001b[0m \u001b[1;31m#You will produce a separate bar chart for each purpose\u001b[0m\u001b[1;33m\u001b[0m\u001b[1;33m\u001b[0m\u001b[1;33m\u001b[0m\u001b[0m\n\u001b[0;32m      8\u001b[0m \u001b[1;33m\u001b[0m\u001b[0m\n\u001b[1;32m----> 9\u001b[1;33m \u001b[0mchartData\u001b[0m \u001b[1;33m=\u001b[0m \u001b[0mdata\u001b[0m\u001b[1;33m.\u001b[0m\u001b[0mloc\u001b[0m\u001b[1;33m[\u001b[0m\u001b[1;33m:\u001b[0m\u001b[1;33m,\u001b[0m\u001b[1;33m[\u001b[0m\u001b[1;34m'loan_status'\u001b[0m\u001b[1;33m,\u001b[0m \u001b[1;34m'ctab_percent'\u001b[0m\u001b[1;33m]\u001b[0m\u001b[1;33m]\u001b[0m\u001b[1;33m.\u001b[0m\u001b[0mgroupby\u001b[0m\u001b[1;33m(\u001b[0m\u001b[1;34m'loan_status'\u001b[0m\u001b[1;33m)\u001b[0m\u001b[1;33m.\u001b[0m\u001b[0mmean\u001b[0m\u001b[1;33m(\u001b[0m\u001b[1;33m)\u001b[0m\u001b[1;33m\u001b[0m\u001b[1;33m\u001b[0m\u001b[0m\n\u001b[0m\u001b[0;32m     10\u001b[0m \u001b[0mchartData\u001b[0m\u001b[1;33m.\u001b[0m\u001b[0mplot\u001b[0m\u001b[1;33m(\u001b[0m\u001b[0mkind\u001b[0m\u001b[1;33m=\u001b[0m\u001b[1;34m'bar'\u001b[0m\u001b[1;33m,\u001b[0m \u001b[0mcolor\u001b[0m\u001b[1;33m=\u001b[0m\u001b[1;34m'orange'\u001b[0m\u001b[1;33m)\u001b[0m\u001b[1;33m\u001b[0m\u001b[1;33m\u001b[0m\u001b[0m\n\u001b[0;32m     11\u001b[0m \u001b[0mplt\u001b[0m\u001b[1;33m.\u001b[0m\u001b[0mylabel\u001b[0m\u001b[1;33m(\u001b[0m\u001b[1;34m'Percentage'\u001b[0m\u001b[1;33m)\u001b[0m\u001b[1;33m\u001b[0m\u001b[1;33m\u001b[0m\u001b[0m\n",
      "\u001b[1;32m~\\Anaconda3\\lib\\site-packages\\pandas\\core\\indexing.py\u001b[0m in \u001b[0;36m__getitem__\u001b[1;34m(self, key)\u001b[0m\n\u001b[0;32m   1759\u001b[0m                 \u001b[1;32mexcept\u001b[0m \u001b[1;33m(\u001b[0m\u001b[0mKeyError\u001b[0m\u001b[1;33m,\u001b[0m \u001b[0mIndexError\u001b[0m\u001b[1;33m,\u001b[0m \u001b[0mAttributeError\u001b[0m\u001b[1;33m)\u001b[0m\u001b[1;33m:\u001b[0m\u001b[1;33m\u001b[0m\u001b[1;33m\u001b[0m\u001b[0m\n\u001b[0;32m   1760\u001b[0m                     \u001b[1;32mpass\u001b[0m\u001b[1;33m\u001b[0m\u001b[1;33m\u001b[0m\u001b[0m\n\u001b[1;32m-> 1761\u001b[1;33m             \u001b[1;32mreturn\u001b[0m \u001b[0mself\u001b[0m\u001b[1;33m.\u001b[0m\u001b[0m_getitem_tuple\u001b[0m\u001b[1;33m(\u001b[0m\u001b[0mkey\u001b[0m\u001b[1;33m)\u001b[0m\u001b[1;33m\u001b[0m\u001b[1;33m\u001b[0m\u001b[0m\n\u001b[0m\u001b[0;32m   1762\u001b[0m         \u001b[1;32melse\u001b[0m\u001b[1;33m:\u001b[0m\u001b[1;33m\u001b[0m\u001b[1;33m\u001b[0m\u001b[0m\n\u001b[0;32m   1763\u001b[0m             \u001b[1;31m# we by definition only have the 0th axis\u001b[0m\u001b[1;33m\u001b[0m\u001b[1;33m\u001b[0m\u001b[1;33m\u001b[0m\u001b[0m\n",
      "\u001b[1;32m~\\Anaconda3\\lib\\site-packages\\pandas\\core\\indexing.py\u001b[0m in \u001b[0;36m_getitem_tuple\u001b[1;34m(self, tup)\u001b[0m\n\u001b[0;32m   1286\u001b[0m                 \u001b[1;32mcontinue\u001b[0m\u001b[1;33m\u001b[0m\u001b[1;33m\u001b[0m\u001b[0m\n\u001b[0;32m   1287\u001b[0m \u001b[1;33m\u001b[0m\u001b[0m\n\u001b[1;32m-> 1288\u001b[1;33m             \u001b[0mretval\u001b[0m \u001b[1;33m=\u001b[0m \u001b[0mgetattr\u001b[0m\u001b[1;33m(\u001b[0m\u001b[0mretval\u001b[0m\u001b[1;33m,\u001b[0m \u001b[0mself\u001b[0m\u001b[1;33m.\u001b[0m\u001b[0mname\u001b[0m\u001b[1;33m)\u001b[0m\u001b[1;33m.\u001b[0m\u001b[0m_getitem_axis\u001b[0m\u001b[1;33m(\u001b[0m\u001b[0mkey\u001b[0m\u001b[1;33m,\u001b[0m \u001b[0maxis\u001b[0m\u001b[1;33m=\u001b[0m\u001b[0mi\u001b[0m\u001b[1;33m)\u001b[0m\u001b[1;33m\u001b[0m\u001b[1;33m\u001b[0m\u001b[0m\n\u001b[0m\u001b[0;32m   1289\u001b[0m \u001b[1;33m\u001b[0m\u001b[0m\n\u001b[0;32m   1290\u001b[0m         \u001b[1;32mreturn\u001b[0m \u001b[0mretval\u001b[0m\u001b[1;33m\u001b[0m\u001b[1;33m\u001b[0m\u001b[0m\n",
      "\u001b[1;32m~\\Anaconda3\\lib\\site-packages\\pandas\\core\\indexing.py\u001b[0m in \u001b[0;36m_getitem_axis\u001b[1;34m(self, key, axis)\u001b[0m\n\u001b[0;32m   1951\u001b[0m                     \u001b[1;32mraise\u001b[0m \u001b[0mValueError\u001b[0m\u001b[1;33m(\u001b[0m\u001b[1;34m\"Cannot index with multidimensional key\"\u001b[0m\u001b[1;33m)\u001b[0m\u001b[1;33m\u001b[0m\u001b[1;33m\u001b[0m\u001b[0m\n\u001b[0;32m   1952\u001b[0m \u001b[1;33m\u001b[0m\u001b[0m\n\u001b[1;32m-> 1953\u001b[1;33m                 \u001b[1;32mreturn\u001b[0m \u001b[0mself\u001b[0m\u001b[1;33m.\u001b[0m\u001b[0m_getitem_iterable\u001b[0m\u001b[1;33m(\u001b[0m\u001b[0mkey\u001b[0m\u001b[1;33m,\u001b[0m \u001b[0maxis\u001b[0m\u001b[1;33m=\u001b[0m\u001b[0maxis\u001b[0m\u001b[1;33m)\u001b[0m\u001b[1;33m\u001b[0m\u001b[1;33m\u001b[0m\u001b[0m\n\u001b[0m\u001b[0;32m   1954\u001b[0m \u001b[1;33m\u001b[0m\u001b[0m\n\u001b[0;32m   1955\u001b[0m             \u001b[1;31m# nested tuple slicing\u001b[0m\u001b[1;33m\u001b[0m\u001b[1;33m\u001b[0m\u001b[1;33m\u001b[0m\u001b[0m\n",
      "\u001b[1;32m~\\Anaconda3\\lib\\site-packages\\pandas\\core\\indexing.py\u001b[0m in \u001b[0;36m_getitem_iterable\u001b[1;34m(self, key, axis)\u001b[0m\n\u001b[0;32m   1592\u001b[0m         \u001b[1;32melse\u001b[0m\u001b[1;33m:\u001b[0m\u001b[1;33m\u001b[0m\u001b[1;33m\u001b[0m\u001b[0m\n\u001b[0;32m   1593\u001b[0m             \u001b[1;31m# A collection of keys\u001b[0m\u001b[1;33m\u001b[0m\u001b[1;33m\u001b[0m\u001b[1;33m\u001b[0m\u001b[0m\n\u001b[1;32m-> 1594\u001b[1;33m             \u001b[0mkeyarr\u001b[0m\u001b[1;33m,\u001b[0m \u001b[0mindexer\u001b[0m \u001b[1;33m=\u001b[0m \u001b[0mself\u001b[0m\u001b[1;33m.\u001b[0m\u001b[0m_get_listlike_indexer\u001b[0m\u001b[1;33m(\u001b[0m\u001b[0mkey\u001b[0m\u001b[1;33m,\u001b[0m \u001b[0maxis\u001b[0m\u001b[1;33m,\u001b[0m \u001b[0mraise_missing\u001b[0m\u001b[1;33m=\u001b[0m\u001b[1;32mFalse\u001b[0m\u001b[1;33m)\u001b[0m\u001b[1;33m\u001b[0m\u001b[1;33m\u001b[0m\u001b[0m\n\u001b[0m\u001b[0;32m   1595\u001b[0m             return self.obj._reindex_with_indexers(\n\u001b[0;32m   1596\u001b[0m                 \u001b[1;33m{\u001b[0m\u001b[0maxis\u001b[0m\u001b[1;33m:\u001b[0m \u001b[1;33m[\u001b[0m\u001b[0mkeyarr\u001b[0m\u001b[1;33m,\u001b[0m \u001b[0mindexer\u001b[0m\u001b[1;33m]\u001b[0m\u001b[1;33m}\u001b[0m\u001b[1;33m,\u001b[0m \u001b[0mcopy\u001b[0m\u001b[1;33m=\u001b[0m\u001b[1;32mTrue\u001b[0m\u001b[1;33m,\u001b[0m \u001b[0mallow_dups\u001b[0m\u001b[1;33m=\u001b[0m\u001b[1;32mTrue\u001b[0m\u001b[1;33m\u001b[0m\u001b[1;33m\u001b[0m\u001b[0m\n",
      "\u001b[1;32m~\\Anaconda3\\lib\\site-packages\\pandas\\core\\indexing.py\u001b[0m in \u001b[0;36m_get_listlike_indexer\u001b[1;34m(self, key, axis, raise_missing)\u001b[0m\n\u001b[0;32m   1550\u001b[0m \u001b[1;33m\u001b[0m\u001b[0m\n\u001b[0;32m   1551\u001b[0m         self._validate_read_indexer(\n\u001b[1;32m-> 1552\u001b[1;33m             \u001b[0mkeyarr\u001b[0m\u001b[1;33m,\u001b[0m \u001b[0mindexer\u001b[0m\u001b[1;33m,\u001b[0m \u001b[0mo\u001b[0m\u001b[1;33m.\u001b[0m\u001b[0m_get_axis_number\u001b[0m\u001b[1;33m(\u001b[0m\u001b[0maxis\u001b[0m\u001b[1;33m)\u001b[0m\u001b[1;33m,\u001b[0m \u001b[0mraise_missing\u001b[0m\u001b[1;33m=\u001b[0m\u001b[0mraise_missing\u001b[0m\u001b[1;33m\u001b[0m\u001b[1;33m\u001b[0m\u001b[0m\n\u001b[0m\u001b[0;32m   1553\u001b[0m         )\n\u001b[0;32m   1554\u001b[0m         \u001b[1;32mreturn\u001b[0m \u001b[0mkeyarr\u001b[0m\u001b[1;33m,\u001b[0m \u001b[0mindexer\u001b[0m\u001b[1;33m\u001b[0m\u001b[1;33m\u001b[0m\u001b[0m\n",
      "\u001b[1;32m~\\Anaconda3\\lib\\site-packages\\pandas\\core\\indexing.py\u001b[0m in \u001b[0;36m_validate_read_indexer\u001b[1;34m(self, key, indexer, axis, raise_missing)\u001b[0m\n\u001b[0;32m   1652\u001b[0m             \u001b[1;32mif\u001b[0m \u001b[1;32mnot\u001b[0m \u001b[1;33m(\u001b[0m\u001b[0max\u001b[0m\u001b[1;33m.\u001b[0m\u001b[0mis_categorical\u001b[0m\u001b[1;33m(\u001b[0m\u001b[1;33m)\u001b[0m \u001b[1;32mor\u001b[0m \u001b[0max\u001b[0m\u001b[1;33m.\u001b[0m\u001b[0mis_interval\u001b[0m\u001b[1;33m(\u001b[0m\u001b[1;33m)\u001b[0m\u001b[1;33m)\u001b[0m\u001b[1;33m:\u001b[0m\u001b[1;33m\u001b[0m\u001b[1;33m\u001b[0m\u001b[0m\n\u001b[0;32m   1653\u001b[0m                 raise KeyError(\n\u001b[1;32m-> 1654\u001b[1;33m                     \u001b[1;34m\"Passing list-likes to .loc or [] with any missing labels \"\u001b[0m\u001b[1;33m\u001b[0m\u001b[1;33m\u001b[0m\u001b[0m\n\u001b[0m\u001b[0;32m   1655\u001b[0m                     \u001b[1;34m\"is no longer supported, see \"\u001b[0m\u001b[1;33m\u001b[0m\u001b[1;33m\u001b[0m\u001b[0m\n\u001b[0;32m   1656\u001b[0m                     \u001b[1;34m\"https://pandas.pydata.org/pandas-docs/stable/user_guide/indexing.html#deprecate-loc-reindex-listlike\"\u001b[0m  \u001b[1;31m# noqa:E501\u001b[0m\u001b[1;33m\u001b[0m\u001b[1;33m\u001b[0m\u001b[0m\n",
      "\u001b[1;31mKeyError\u001b[0m: 'Passing list-likes to .loc or [] with any missing labels is no longer supported, see https://pandas.pydata.org/pandas-docs/stable/user_guide/indexing.html#deprecate-loc-reindex-listlike'"
     ]
    }
   ],
   "source": [
    "#STEP 4 --- Created by Patrick and Aida\n",
    "\n",
    "# ***** PART 4 IS NOT DONE YET, NEEDS TWEAKING TO DEBUG ERRORS ******\n",
    "\n",
    "#Plot bar charts for the percent of observations for each loan status\n",
    "# with loan status on the x-axis and the percent with the loan status as the height of the bar\n",
    "#You will produce a separate bar chart for each purpose\n",
    "\n",
    "chartData = data.loc[:,['loan_status', 'ctab_percent']].groupby('loan_status').mean()\n",
    "chartData.plot(kind='bar', color='orange')\n",
    "plt.ylabel('Percentage')\n",
    "plt.xlabel('Loan Status')\n",
    "plt.xticks(rotation=0)\n",
    "plt.show()\n",
    "plt.close()"
   ]
  },
  {
   "cell_type": "code",
   "execution_count": 5,
   "metadata": {},
   "outputs": [
    {
     "data": {
      "image/png": "[encoded data removed]",
      "text/plain": [
       "<Figure size 432x288 with 1 Axes>"
      ]
     },
     "metadata": {
      "needs_background": "light"
     },
     "output_type": "display_data"
    }
   ],
   "source": [
    "#STEP 5 --- Created by Patrick\n",
    "\n",
    "#pandas imported as pd\n",
    "#data = pd.read_csv('lc_2016_2017_short.csv')\n",
    "#matplotlib.pyplot imported as plt\n",
    "\n",
    "#Produce a Scatter Plot with annual_inc (annual income) on the x-axis and \n",
    "# delinq_2yrs (number of 30+ days past-due incidences of delinquency in the borrower's credit file for the past 2 years) \n",
    "# on the y-axis (delinq 2yrs)  \n",
    "#Restrict the x-axis to the range of 0 to 200,000\n",
    "\n",
    "#Produce Scatter Plot\n",
    "\n",
    "data.plot(kind='scatter', x='annual_inc', y='delinq_2yrs')\n",
    "\n",
    "#Restrict x-axis to range of 0 to 200,000\n",
    "\n",
    "plt.xlim(0, 200000)\n",
    "\n",
    "plt.xlabel('annual income')\n",
    "plt.ylabel('delinq 2yrs')\n",
    "plt.show()"
   ]
  },
  {
   "cell_type": "code",
   "execution_count": 7,
   "metadata": {},
   "outputs": [
    {
     "name": "stdout",
     "output_type": "stream",
     "text": [
      "                         Generalized Linear Model Regression Results                          \n",
      "==============================================================================================\n",
      "Dep. Variable:     ['chargedOff[0]', 'chargedOff[1]']   No. Observations:               159932\n",
      "Model:                                            GLM   Df Residuals:                   159923\n",
      "Model Family:                                Binomial   Df Model:                            8\n",
      "Link Function:                                  logit   Scale:                          1.0000\n",
      "Method:                                          IRLS   Log-Likelihood:                -29132.\n",
      "Date:                                Mon, 06 Jul 2020   Deviance:                       58264.\n",
      "Time:                                        21:55:37   Pearson chi2:                 1.60e+05\n",
      "No. Iterations:                                     7                                         \n",
      "Covariance Type:                            nonrobust                                         \n",
      "===============================================================================\n",
      "                  coef    std err          z      P>|z|      [0.025      0.975]\n",
      "-------------------------------------------------------------------------------\n",
      "Intercept       4.4695      0.058     77.083      0.000       4.356       4.583\n",
      "grade[T.B]     -0.8806      0.063    -13.877      0.000      -1.005      -0.756\n",
      "grade[T.C]     -1.4123      0.061    -23.191      0.000      -1.532      -1.293\n",
      "grade[T.D]     -2.0333      0.063    -32.509      0.000      -2.156      -1.911\n",
      "grade[T.E]     -2.4903      0.066    -37.926      0.000      -2.619      -2.362\n",
      "grade[T.F]     -2.9155      0.074    -39.546      0.000      -3.060      -2.771\n",
      "grade[T.G]     -2.6116      0.101    -25.772      0.000      -2.810      -2.413\n",
      "dti            -0.0029      0.001     -5.480      0.000      -0.004      -0.002\n",
      "delinq_2yrs    -0.0060      0.012     -0.514      0.608      -0.029       0.017\n",
      "===============================================================================\n",
      "\n",
      "thresh= 0.04895 \n",
      "\n",
      "predictedClass          0     1\n",
      "loan_status                    \n",
      "Charged Off             0  1958\n",
      "Current             29689     0\n",
      "Default                 2     0\n",
      "Fully Paid           6951     0\n",
      "In Grace Period       366     0\n",
      "Late (16-30 days)     225     0\n",
      "Late (31-120 days)    809     0\n",
      "mean of predicted probability [0.98837124 0.98808194 0.97189103 ... 0.95093916 0.91593684 0.8730658 ] \n",
      "\n",
      "0.9513348805011558\n"
     ]
    },
    {
     "name": "stderr",
     "output_type": "stream",
     "text": [
      "C:\\Users\\juelizon\\Anaconda3\\lib\\site-packages\\pandas\\core\\indexing.py:844: SettingWithCopyWarning: \n",
      "A value is trying to be set on a copy of a slice from a DataFrame.\n",
      "Try using .loc[row_indexer,col_indexer] = value instead\n",
      "\n",
      "See the caveats in the documentation: https://pandas.pydata.org/pandas-docs/stable/user_guide/indexing.html#returning-a-view-versus-a-copy\n",
      "  self.obj[key] = _infer_fill_value(value)\n",
      "C:\\Users\\juelizon\\Anaconda3\\lib\\site-packages\\pandas\\core\\indexing.py:965: SettingWithCopyWarning: \n",
      "A value is trying to be set on a copy of a slice from a DataFrame.\n",
      "Try using .loc[row_indexer,col_indexer] = value instead\n",
      "\n",
      "See the caveats in the documentation: https://pandas.pydata.org/pandas-docs/stable/user_guide/indexing.html#returning-a-view-versus-a-copy\n",
      "  self.obj[item] = s\n"
     ]
    }
   ],
   "source": [
    "#STEP 6\n",
    "#a. Build Logistic regression modeil with data_train data\n",
    "\n",
    "from sklearn.model_selection import train_test_split\n",
    "import numpy as np\n",
    "import statsmodels.api as sm\n",
    "from statsmodels.formula.api import glm\n",
    "\n",
    "\n",
    "from sklearn.linear_model import LogisticRegression\n",
    "\n",
    "data_train, data_test = train_test_split(data, test_size=0.2)\n",
    "\n",
    "#Create a new variable named, 'chargedOff', and make it equal to one if loan_status is 'Charged Off', and zero otherwise.\n",
    "#chargedOff will be the Y variable in your model.\n",
    "chargedOff = np.where(data_train.loc[:,'loan_status'] == 'Charged Off', '1', '0')\n",
    "\n",
    "#Use the following X variables in your model: grade, dti, and delinq_2yrs.\n",
    "feature_cols = ['grade', 'dti', 'delinq_2yrs']\n",
    "X = data_train[feature_cols]\n",
    "y = chargedOff\n",
    "\n",
    "\n",
    "# Develop your logistic regression model using data_train.\n",
    "\n",
    "xvars ='grade + dti +  delinq_2yrs'\n",
    "ff =  'chargedOff'+ ' ~ ' + xvars\n",
    "\n",
    "#  Run the logistic regression.    \n",
    "model_GLM = glm(formula = ff,\n",
    "data = data_train,\n",
    "family = sm.families.Binomial()).fit()\n",
    "\n",
    "\n",
    "# b. Print the regression results.\n",
    "print(model_GLM.summary())\n",
    "\n",
    "\n",
    "\n",
    "\n",
    "\n",
    "#c.Write an interpretation of your regression coefficients within a Jupyter notebook cell.  \n",
    "#You can do this by selecting “markdown” as the cell type, as seen in the following image:\n",
    "## TODOZ  - REVIEW results of print(model_GLM.summary())  and write interpretation based on odds.\n",
    "\n",
    "#d.Use your regression model to predict the probability that loan_status is 'Charged Off',\n",
    "#using the test data set, data_test.\n",
    "data_test.loc[:,'predictedProb'] = model_GLM.predict(data_test)\n",
    "\n",
    "thresh = np.sum(data_test.loc[:,'loan_status']=='Charged Off')/data_test.shape[0]\n",
    "print('\\nthresh=', thresh, '\\n')\n",
    "\n",
    "#  Convert the predicted probability into a predicted class, based on the threshhold  from above.\n",
    "data_test.loc[:,'predictedClass'] = np.where(data_test.loc[:,'loan_status'] == 'Charged Off', '1', '0')\n",
    "\n",
    "#  Print a crosstab of the actual and predicted churn classes in the test data.\n",
    "print(pd.crosstab(data_test['loan_status'], data_test['predictedClass']))\n",
    "\n",
    "\n",
    "#e. Print the mean of your predicted probability in the test data.\n",
    "print('mean of predicted probability',  model_GLM.mu, '\\n')\n",
    "\n",
    "print(data_test.loc[:,'predictedProb'].mean())"
   ]
  },
  {
   "cell_type": "code",
   "execution_count": null,
   "metadata": {},
   "outputs": [],
   "source": []
  }
 ],
 "metadata": {
  "kernelspec": {
   "display_name": "Python 3",
   "language": "python",
   "name": "python3"
  },
  "language_info": {
   "codemirror_mode": {
    "name": "ipython",
    "version": 3
   },
   "file_extension": ".py",
   "mimetype": "text/x-python",
   "name": "python",
   "nbconvert_exporter": "python",
   "pygments_lexer": "ipython3",
   "version": "3.7.6"
  }
 },
 "nbformat": 4,
 "nbformat_minor": 4
}
